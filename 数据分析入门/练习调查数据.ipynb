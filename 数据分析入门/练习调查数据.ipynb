{
 "cells": [
  {
   "cell_type": "code",
   "execution_count": 6,
   "metadata": {},
   "outputs": [
    {
     "name": "stdout",
     "output_type": "stream",
     "text": [
      "enrollment_num_unique_students:1302\n",
      "engagement_num_unique_students:1237\n",
      "submission_num_unique_students:743\n"
     ]
    }
   ],
   "source": [
    "import unicodecsv\n",
    "\n",
    "def read_csv(filename):\n",
    "    with open(filename, 'rb') as f:\n",
    "        reader = unicodecsv.DictReader(f)\n",
    "        return list(reader)\n",
    "    \n",
    "enrollments = read_csv('datasets/enrollments.csv')\n",
    "daily_engagement = read_csv('datasets/daily_engagement.csv')\n",
    "project_submissions = read_csv('datasets/project_submissions.csv')\n",
    "    \n",
    "### For each of these three tables, find the number of rows in the table and\n",
    "### the number of unique students in the table. To find the number of unique\n",
    "### students, you might want to create a set of the account keys in each table.\n",
    "\n",
    "# enrollment_num_rows = len(enrollments)            # Replace this with your code\n",
    "# unique_enrolled_students = set()\n",
    "# for enrollment in enrollments:\n",
    "#     unique_enrolled_students.add(enrollment['account_key'])\n",
    "#   # Replace this with your code\n",
    "# enrollment_num_unique_students = len(unique_enrolled_students)\n",
    "\n",
    "# engagement_num_rows = len(daily_engagement)             # Replace this with your code\n",
    "# unique_engagement_students = set()\n",
    "# for engagement_record in daily_engagement:\n",
    "#     unique_engagement_students.add(engagement_record['acct'])\n",
    "# engagement_num_unique_students = len(unique_engagement_students)\n",
    "#   # Replace this with your code\n",
    "\n",
    "# submission_num_rows = len(project_submissions)             # Replace this with your code\n",
    "# unique_project_submitters = set()\n",
    "# for submission in project_submissions:\n",
    "#     unique_project_submitters.add(submission['account_key'])\n",
    "# submission_num_unique_students = len(unique_project_submitters)\n",
    "\n",
    "def get_unique_count(dataList,key):\n",
    "    keySet = set()\n",
    "    for data in dataList:\n",
    "        keySet.add(data[key])\n",
    "    return len(keySet)\n",
    "\n",
    "enrollment_num_rows = len(enrollments) \n",
    "engagement_num_rows = len(daily_engagement)\n",
    "submission_num_rows = len(project_submissions)\n",
    "\n",
    "enrollment_num_unique_students = get_unique_count(enrollments,'account_key')\n",
    "engagement_num_unique_students = get_unique_count(daily_engagement,'acct')\n",
    "submission_num_unique_students = get_unique_count(project_submissions,'account_key')\n",
    "\n",
    "print(\"enrollment_num_unique_students:\"+str(enrollment_num_unique_students))\n",
    "print(\"engagement_num_unique_students:\"+str(engagement_num_unique_students))\n",
    "print(\"submission_num_unique_students:\"+str(submission_num_unique_students))"
   ]
  },
  {
   "cell_type": "code",
   "execution_count": 11,
   "metadata": {},
   "outputs": [
    {
     "name": "stdout",
     "output_type": "stream",
     "text": [
      "717\n"
     ]
    }
   ],
   "source": [
    "def get_unique_key(dataList,key):\n",
    "    keySet = set()\n",
    "    for data in dataList:\n",
    "        keySet.add(data[key])\n",
    "    return keySet\n",
    "\n",
    "enrollment_unique_students = get_unique_key(enrollments,'account_key')\n",
    "engagement_unique_students = get_unique_key(daily_engagement,'acct')\n",
    "\n",
    "for enrollment in enrollment_unique_students:\n",
    "    if enrollment not in engagement_unique_students:\n",
    "        print(enrollment)\n",
    "        break\n"
   ]
  },
  {
   "cell_type": "code",
   "execution_count": null,
   "metadata": {
    "collapsed": true
   },
   "outputs": [],
   "source": [
    "paid_students = {}\n",
    "for enrollment in non_udacity_enrollments:\n",
    "    if (not enrollment['is_canceled'] or\n",
    "            enrollment['days_to_cancel'] > 7):\n",
    "        account_key = enrollment['account_key']\n",
    "        enrollment_date = enrollment['join_date']\n",
    "        if (account_key not in paid_students or\n",
    "                enrollment_date > paid_students[account_key]):\n",
    "            paid_students[account_key] = enrollment_date\n",
    "len(paid_students)"
   ]
  }
 ],
 "metadata": {
  "kernelspec": {
   "display_name": "Python 3",
   "language": "python",
   "name": "python3"
  },
  "language_info": {
   "codemirror_mode": {
    "name": "ipython",
    "version": 3
   },
   "file_extension": ".py",
   "mimetype": "text/x-python",
   "name": "python",
   "nbconvert_exporter": "python",
   "pygments_lexer": "ipython3",
   "version": "3.6.1"
  }
 },
 "nbformat": 4,
 "nbformat_minor": 2
}
